{
  "nbformat": 4,
  "nbformat_minor": 0,
  "metadata": {
    "colab": {
      "provenance": []
    },
    "kernelspec": {
      "name": "python3",
      "display_name": "Python 3"
    },
    "language_info": {
      "name": "python"
    }
  },
  "cells": [
    {
      "cell_type": "markdown",
      "source": [
        "flask() 코드 {모델과 웹 프레임워크 연결}"
      ],
      "metadata": {
        "id": "1rlvh3e76yCM"
      }
    },
    {
      "cell_type": "code",
      "source": [
        "from flask import Flask , render_template,request,url_for,send_from_directory,session\n",
        "from werkzeug.utils import secure_filename\n",
        "import itertools\n",
        "import imageio\n",
        "import os\n",
        "import cv2\n",
        "import numpy as np\n",
        "from flask import jsonify\n",
        "from tensorflow import keras\n",
        "from keras.models import Sequential\n",
        "from keras.layers import Dense,Flatten,GlobalMaxPooling2D,GlobalMaxPooling2D\n",
        "from keras.applications import VGG16,ResNet50\n",
        "import keras.utils as image\n",
        "from imutils import paths\n",
        "\n",
        "\n",
        "\n",
        "app = Flask(__name__)\n",
        "app.secret_key=\"super secret key\"\n",
        "app.config['UPLOAD_FOLDER'] ='C:/Users/dydrk/aii_project/venvv/static/images/'\n",
        "os.environ['TF_CPP_MIN_LOG_LEVEL'] = '3'\n",
        "\n",
        "\n",
        "@app.route(\"/predict\",methods=['GET','POST'])\n",
        "def predict():\n",
        "  if request.method =='POST':\n",
        "    file=request.files['image']\n",
        "    if not file: return render_template('index.html', label=\"No Files\") \n",
        "    #Path='C:/Users/dydrk/aii_project/venvv/static/images/'+str(file.filename)\n",
        "    file.save(os.path.join(app.config['UPLOAD_FOLDER'],file.filename)) #저장시킨 파일..\n",
        "    model=keras.models.load_model('C:/Users/dydrk/aii_project/venvv/my_cofee.h5')  \n",
        "    Path=(os.path.join(app.config['UPLOAD_FOLDER'],file.filename))\n",
        "    \n",
        "    img = image.load_img(Path) #저장시킨 파일 불러오기\n",
        "    img = image.img_to_array(img)\n",
        "    img = np.expand_dims(img, axis=0) \n",
        "    images = np.vstack([img])/255\n",
        "    classes = model.predict(images, batch_size=32)\n",
        "    clas = list(itertools.chain(*classes))\n",
        "    print(clas)\n",
        "    if clas[0]>=max(clas):\n",
        "      coffee='green'\n",
        "    elif clas[1]>=max(clas):\n",
        "      coffee ='light'\n",
        "    elif clas[2]>=max(clas):\n",
        "      coffee='medium'\n",
        "    elif clas[3]>=max(clas):\n",
        "       coffee='dark'\n",
        "             \n",
        "    return render_template('index.html', data=coffee)\n",
        "\n",
        "   \n",
        "@app.route('/') #파이썬 데코레이터 문법 =라우팅\n",
        "def index():\n",
        "    return render_template(\"index.html\")\n",
        "    \n",
        "\n",
        "if __name__ == '__main__':\n",
        "    #model = keras.models.load_model('my_cofee.h5')\n",
        "    print((\"*Loading Keras model and Flask starting server...\"\n",
        "           \"please wait until server has fully started\"))\n",
        "    app.run(debug=True,host=\"0.0.0.0\",port=8001)\n",
        "\n",
        "\n",
        "\n",
        "\n",
        "\n",
        "#@app.route('/user/<user_name>/<int:user_id>')\n",
        "#def user(user_name, user_id):\n",
        "  #  return f'Hello,{user_name}({user_id})!'"
      ],
      "metadata": {
        "id": "ZVf0WFwK64OH"
      },
      "execution_count": null,
      "outputs": []
    },
    {
      "cell_type": "markdown",
      "source": [
        "네이버 이미지 크롤링"
      ],
      "metadata": {
        "id": "pVWvNwso_rv7"
      }
    },
    {
      "cell_type": "code",
      "source": [
        "from selenium import webdriver\n",
        "import time\n",
        "from urllib.parse import quote_plus\n",
        "from selenium.webdriver.common.by import By\n",
        "from urllib.request import urlopen\n",
        "import os\n",
        "\n",
        "def save_images(images,save_path):\n",
        "  for index,image in enumerate(images[:1000]):\n",
        "    src=image.get_attribute('src')\n",
        "    t=urlopen(src).read()\n",
        "    file=open(os.path.join(save_path,str(index+1)+'.jpg'),\"wb\")\n",
        "    file.write(t)\n",
        "    print(\"img save\"+save_path+str(index+1)+\".jpg\")\n",
        "\n",
        "def create_folder_if_not_exists(directory):\n",
        "  try:\n",
        "    if not os.path.exists(directory):\n",
        "      os.makedirs(directory)\n",
        "    except OSError:\n",
        "      print('Error: Creating directory.'+directory)\n",
        "\n",
        "def make_url(search_term):\n",
        "  base_url='https://search.naver.com/search.naver?where=image&section=image&query='\n",
        "\n",
        "def crawl_images(search_term):\n",
        "  url=make_url(search_term)\n",
        "\n",
        "  browser=webdriver.Chrome('chromedriver')\n",
        "  browser.implicitly_wait(30)\n",
        "  browser.get(url)\n",
        "  time.sleep(5)\n",
        "\n",
        "  for_in range(10000):\n",
        "    browser.execute_script(\"window.scrollBy(0,30000)\")\n",
        "  \n",
        "  images=browser.find_elements(By.CLASS_NAME,\"_image\")\n",
        "\n",
        "  save_path=\"C:\\coffee\"+search_term+\"/\"\n",
        "  create_folder_if_not_exists(save_path)\n",
        "  save_images(images,save_path)\n",
        "  print(search_term+\"저장 성공!\")\n",
        "  browser.close()\n",
        "\n",
        "if__name__=='__main__':\n",
        "  crawl_images(input('원하는 검색어:'))"
      ],
      "metadata": {
        "id": "IpALBiWH66gW"
      },
      "execution_count": null,
      "outputs": []
    },
    {
      "cell_type": "markdown",
      "source": [
        "구글 이미지 크롤링"
      ],
      "metadata": {
        "id": "WLNKaw62_utN"
      }
    },
    {
      "cell_type": "code",
      "source": [
        "from selenium import webdriver\n",
        "import time\n",
        "from urllib.parse import quote_plus\n",
        "from selenium.webdriver.common.by import By\n",
        "from urllib.request import urlopen\n",
        "import os\n",
        "\n",
        "\n",
        "driver = webdriver.Chrome()\n",
        "driver.get(\"https://www.google.co.kr/imghp?h1=ko&tab=ri&ogb1\")\n",
        "\n",
        "elem=driver.find_element(By.NAME,\"q\")\n",
        "elem.send_keys(\"생두\") #생두, 라이트 로스팅, 미디엄 로스팅, 다크 로스팅으로 바꿔가며 크롤링\n",
        "elem.send_keys(Keys.RETURN)\n",
        "SCROLL_PAUSE_TIME=1\n",
        "last_height=driver.execute_script(\"return document.body.scrollHeight\")\n",
        "while True:\n",
        "  driver.execute_script(\"window.scrollTo(0,document.body.scrollHeight\");)\n",
        "  time.sleep(SCROLL_PAUSE_TIME)\n",
        "  new_height=driver.execute_script(\"return document.body.scrollHeight\")\n",
        "  if new_height==last_height:\n",
        "    try:\n",
        "      driver.find_element(By.CSS_SELECTOR,\".mye4qd\").click()\n",
        "    except:\n",
        "       break\n",
        "    last_height=new_height\n",
        "\n",
        "images=driver.find_elements(By.CSS_SELECTOR,\".rg_i.Q4LuWd\")\n",
        "count=1\n",
        "for image in images:\n",
        "  image.click()\n",
        "  time.sleep(3)\n",
        "  imgUrl=driver.find_element(By.CSS_SELECTOR,\".n3VNCb\").get_attribute(\"src\")\n",
        "  urllib.request.urlretrieve(imgUrl,str(count)+\".jpg\")\n",
        "  count=count+1"
      ],
      "metadata": {
        "id": "2QrXJC7j_0kI"
      },
      "execution_count": null,
      "outputs": []
    }
  ]
}